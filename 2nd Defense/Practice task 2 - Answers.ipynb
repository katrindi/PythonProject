{
 "cells": [
  {
   "cell_type": "markdown",
   "id": "b956d0b0",
   "metadata": {},
   "source": [
    "Task 1 + Task 4"
   ]
  },
  {
   "cell_type": "code",
   "execution_count": 119,
   "id": "73d0af8f",
   "metadata": {},
   "outputs": [],
   "source": [
    "class Customer : \n",
    "    \n",
    "    # Class variable to track the number of customers\n",
    "    identifier = 0 \n",
    "    \n",
    "    def __init__(self, customer_name):\n",
    "        # .__ makes the customer name private \n",
    "        self.__customer_name = customer_name\n",
    "        Customer.identifier += 1\n",
    "        self.customer_identifier = Customer.identifier\n",
    "        \n",
    "    # Method which returns the customer identifier.\n",
    "    def get_identifier(self):\n",
    "        return \"\\n{}\".format(self.customer_identifier)\n",
    "    \n",
    "    # Method which returns text consisting of customer identifier + customer name.\n",
    "    def full_info(self):\n",
    "        return \"\\n{} {}\".format(self.customer_identifier, self.__customer_name)\n",
    "    \n",
    "    #  Task 4\n",
    "    \n",
    "    # Method which accepts a food or drink object and saves it to the customer.\n",
    "    def add_item():\n",
    "    \n",
    "    # Method which accepts an item index and removes that item from the customer's shopping cart. \n",
    "    def remove_item():\n",
    "    \n",
    "    # Method which returns a list of all items where each item is represented by its \"full_info\" method results.\n",
    "    def get_items():\n",
    "        "
   ]
  },
  {
   "cell_type": "code",
   "execution_count": 120,
   "id": "e3de9ba9",
   "metadata": {},
   "outputs": [
    {
     "name": "stdout",
     "output_type": "stream",
     "text": [
      "3\n",
      "\n",
      "1\n",
      "\n",
      "2\n",
      "\n",
      "3\n",
      "\n",
      "1 Jonas Jonaitis\n",
      "\n",
      "2 Petras Petraitis\n",
      "\n",
      "3 Lukas Lukauskas\n"
     ]
    }
   ],
   "source": [
    "c1 = Customer(\"Jonas Jonaitis\")\n",
    "c2 = Customer(\"Petras Petraitis\")\n",
    "c3 = Customer(\"Lukas Lukauskas\")\n",
    "\n",
    "print(Customer.identifier)\n",
    "\n",
    "print(c1.get_identifier())\n",
    "print(c2.get_identifier())\n",
    "print(c3.get_identifier())\n",
    "\n",
    "print(c1.full_info())\n",
    "print(c2.full_info())\n",
    "print(c3.full_info())"
   ]
  },
  {
   "cell_type": "markdown",
   "id": "ca3caa97",
   "metadata": {},
   "source": [
    "Task 2"
   ]
  },
  {
   "cell_type": "code",
   "execution_count": 121,
   "id": "9aa6fd6f",
   "metadata": {},
   "outputs": [],
   "source": [
    "class Item : \n",
    "    \n",
    "    # Constructor accepts three parameters: item name, quantity (default value 1), price (default value 10).\n",
    "    def __init__(self, item_name, quantity= 1, price = 10):\n",
    "        self.item_name = item_name\n",
    "        self.quantity = quantity\n",
    "        self.price  = price\n",
    "    \n",
    "    # Method which returns item quantity * item price.\n",
    "    def get_total_price(self):\n",
    "        return (self.quantity * self.price)\n",
    "    \n",
    "    # Method which returns text consisting of item name + item price + item quantity + get_total_price().\n",
    "    def full_info(self):\n",
    "        return \"{} {} {} {} \\n\".format(self.item_name, self.price , self.quantity, self.get_total_price())\n",
    "    \n",
    "    # Method which returns data in the dictionary.\n",
    "    def to_dict(self):\n",
    "        item_dict = {'name' : self.item_name,\n",
    "                     'price' : self.price,\n",
    "                     'total_price' : self.get_total_price()}\n",
    "        return \"{} \\n\".format(item_dict) "
   ]
  },
  {
   "cell_type": "code",
   "execution_count": 122,
   "id": "7cd9ea57",
   "metadata": {},
   "outputs": [
    {
     "name": "stdout",
     "output_type": "stream",
     "text": [
      "Carrots 10 1 10 \n",
      "\n",
      "Milk 1.5 2 3.0 \n",
      "\n",
      "Bread 0.5 1 0.5 \n",
      "\n",
      "{'name': 'Carrots', 'price': 10, 'total_price': 10} \n",
      "\n",
      "{'name': 'Milk', 'price': 1.5, 'total_price': 3.0} \n",
      "\n",
      "{'name': 'Bread', 'price': 0.5, 'total_price': 0.5} \n",
      "\n"
     ]
    }
   ],
   "source": [
    "i1 = Item(\"Carrots\")\n",
    "i2 = Item(\"Milk\", 2, 1.5)\n",
    "i3 = Item(\"Bread\", price=0.5)\n",
    "\n",
    "print(i1.full_info())\n",
    "print(i2.full_info())\n",
    "print(i3.full_info())\n",
    "\n",
    "print(i1.to_dict())\n",
    "print(i2.to_dict())\n",
    "print(i3.to_dict())"
   ]
  },
  {
   "cell_type": "markdown",
   "id": "71e18f60",
   "metadata": {},
   "source": [
    "Task 3"
   ]
  },
  {
   "cell_type": "code",
   "execution_count": 127,
   "id": "a81e1e38",
   "metadata": {},
   "outputs": [],
   "source": [
    "class Food(Item) :\n",
    "    \n",
    "    def __init__(self, item_name, quantity= 1, price = 10):\n",
    "        super().__init__(item_name, quantity, price)\n",
    "    \n",
    "    def full_info(self):\n",
    "        return \"{} {} {} {} {} \\n\".format(\"Food\", self.item_name, self.price , self.quantity, self.get_total_price())\n",
    "    \n",
    "    \n",
    "class Drink(Item) : \n",
    "    \n",
    "     def __init__(self, item_name, quantity= 1, price = 10):\n",
    "        super().__init__(item_name, quantity, price)\n",
    "        \n",
    "     def full_info(self):\n",
    "        return \"{} {} {} {} {} \\n\".format(\"Drink\", self.item_name, self.price , self.quantity, self.get_total_price())\n",
    "    "
   ]
  },
  {
   "cell_type": "code",
   "execution_count": 128,
   "id": "dbdf4417",
   "metadata": {},
   "outputs": [
    {
     "name": "stdout",
     "output_type": "stream",
     "text": [
      "Food Bread 1.3 2 2.6 \n",
      "\n",
      "Food Butter 1.3 1 1.3 \n",
      "\n",
      "Drink CocaCola 1.7 3 5.1 \n",
      "\n",
      "Drink Sprite 1.7 2 3.4 \n",
      "\n"
     ]
    }
   ],
   "source": [
    "f1 = Food(\"Bread\", 2, 1.3)\n",
    "f2 = Food(\"Butter\", 1, 1.3)\n",
    "\n",
    "d1 = Drink(\"CocaCola\", 3, 1.7)\n",
    "d2 = Drink(\"Sprite\", 2, 1.7)\n",
    "\n",
    "print(f1.full_info())\n",
    "print(f2.full_info())\n",
    "print(d1.full_info())\n",
    "print(d2.full_info())"
   ]
  },
  {
   "cell_type": "markdown",
   "id": "ccb315ac",
   "metadata": {},
   "source": []
  },
  {
   "cell_type": "code",
   "execution_count": null,
   "id": "ab94ec43",
   "metadata": {},
   "outputs": [],
   "source": []
  }
 ],
 "metadata": {
  "kernelspec": {
   "display_name": "Python 3 (ipykernel)",
   "language": "python",
   "name": "python3"
  },
  "language_info": {
   "codemirror_mode": {
    "name": "ipython",
    "version": 3
   },
   "file_extension": ".py",
   "mimetype": "text/x-python",
   "name": "python",
   "nbconvert_exporter": "python",
   "pygments_lexer": "ipython3",
   "version": "3.9.13"
  }
 },
 "nbformat": 4,
 "nbformat_minor": 5
}
